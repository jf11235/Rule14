{
 "cells": [
  {
   "cell_type": "code",
   "execution_count": 1,
   "metadata": {},
   "outputs": [],
   "source": [
    "import pytesseract\n",
    "import cv2\n",
    "import json\n",
    "import os\n",
    "from PIL import Image\n",
    "from pprint import pprint"
   ]
  },
  {
   "cell_type": "code",
   "execution_count": 2,
   "metadata": {},
   "outputs": [],
   "source": [
    "IMAGE_DIR = 'Images'\n",
    "OCR_DIR = 'OCR'\n",
    "\n",
    "# Define the output JSON file name\n",
    "OUTPUT_FILE = 'output.json'\n",
    "\n",
    "# Define the OCR configuration\n",
    "OCR_CONFIG = r'--oem 3 --psm 6'"
   ]
  },
  {
   "cell_type": "code",
   "execution_count": 11,
   "metadata": {},
   "outputs": [],
   "source": [
    "# Define a function to extract text from an image using OCR\n",
    "def extract_text(image_path):\n",
    "    image = Image.open(image_path)\n",
    "    text = pytesseract.image_to_string(image, config=OCR_CONFIG)\n",
    "    return text.strip()\n",
    "\n",
    "# Define a function to parse the OCR output and extract relevant information\n",
    "def parse_ocr_output(ocr_path):\n",
    "    with open(ocr_path, 'r') as f:\n",
    "        lines = f.readlines()\n",
    "    entries = []\n",
    "    for line in lines:\n",
    "        # Parse the line and extract relevant information\n",
    "        entry = line.split(',')\n",
    "        entries.append(entry)\n",
    "    return entries\n",
    "\n",
    "# Define a function to export the extracted data as JSON\n",
    "def export_as_json(data, output_file):\n",
    "    with open(output_file, 'w') as f:\n",
    "        json.dump(data, f)\n",
    "\n",
    "\n",
    "\n",
    "\n",
    "\n",
    "\n"
   ]
  },
  {
   "cell_type": "code",
   "execution_count": 12,
   "metadata": {},
   "outputs": [],
   "source": [
    "\n",
    "# Initialize the output data dictionary\n",
    "\n",
    "inum = 1 \n",
    "        \n",
    "\n",
    "# Loop through the images in the image directory\n",
    "for image_name in os.listdir(IMAGE_DIR):\n",
    "    output_data = {}\n",
    "    # Extract the text from the image\n",
    "    image_path = os.path.join(IMAGE_DIR, image_name)\n",
    "    text = extract_text(image_path)\n",
    "    # Save the OCR output to a file\n",
    "    ocr_path = os.path.join(OCR_DIR, image_name.replace('.jpg', '.txt'))\n",
    "    with open(ocr_path, 'w') as f:\n",
    "        f.write(text)\n",
    "    # Parse the OCR output\n",
    "    entries = parse_ocr_output(ocr_path)\n",
    "    # append the entries to the output data dictionary\n",
    "    for entry in entries:\n",
    "        output_data.update({f\"testimage{inum}\": entry})\n",
    "        inum += 1\n",
    "\n",
    "# Export the output data as JSON\n",
    "export_as_json(output_data, OUTPUT_FILE)\n"
   ]
  },
  {
   "cell_type": "code",
   "execution_count": null,
   "metadata": {},
   "outputs": [],
   "source": [
    "# Initialize the output data dictionary\n",
    "output_data = {}\n",
    "inum = 1 \n",
    "        "
   ]
  },
  {
   "cell_type": "code",
   "execution_count": null,
   "metadata": {},
   "outputs": [],
   "source": []
  },
  {
   "cell_type": "code",
   "execution_count": 5,
   "metadata": {},
   "outputs": [
    {
     "name": "stdout",
     "output_type": "stream",
     "text": [
      "{'testimage1': ['“Ladlsolzo | aitaolao lel lososo tse t | | tn | saseton | '\n",
      "                '2\\n'],\n",
      " 'testimage10': ['2 ;\\n'],\n",
      " 'testimage11': ['\\n'],\n",
      " 'testimage12': ['log 10.20! 08.10 20',\n",
      "                 '12',\n",
      "                 ' |assisz iur ... lac . 69000/3\\n'],\n",
      " 'testimage13': ['a 9810 20/08. 10.20/12! | assoo [Rr cee PABCL 90 00)3\\n'],\n",
      " 'testimage14': ['4 f 5 .\\n'],\n",
      " 'testimage15': ['\\n'],\n",
      " 'testimage16': ['08 10',\n",
      "                 ' 20! 08 10 20',\n",
      "                 '342: | assia | Rr - ABC ..',\n",
      "                 ' 690.0013 |\\n'],\n",
      " 'testimage17': ['5} ! * at ; ;\\n'],\n",
      " 'testimage18': ['|98.20 20: 08 10.20.12]. | n3390 Lor hac 60 oo}', '\\n'],\n",
      " 'testimage19': ['6 . | i i\\n'],\n",
      " 'testimage2': ['| sil solzo | il a0 lao | loosen Ire | | | a aaco loo |\\n'],\n",
      " 'testimage20': ['\\n'],\n",
      " 'testimage21': ['‘98 10 20:08 10 20', \"32: |323390 | pr .. {ape 6000'1\"],\n",
      " 'testimage22': ['Thigezcz9 Lidsz20R0 fli Liosé : H A BO.00} 2\\n'],\n",
      " 'testimage23': ['2 ', \" 4 ' . m .\\n\"],\n",
      " 'testimage24': ['\\n'],\n",
      " 'testimage25': [\"t ' i : \", ' 1\\n'],\n",
      " 'testimage26': ['re ao} 8\\n'],\n",
      " 'testimage27': ['4 ; 3 Lot\\n'],\n",
      " 'testimage28': ['2) a a 2 fi\\n'],\n",
      " 'testimage29': ['rr Pe ee 1 ¢ i ® Tf 1 4'],\n",
      " 'testimage3': ['\\n'],\n",
      " 'testimage30': ['Des gees Bay eae eT ka rae Ait Me ack as Tae ae\\n'],\n",
      " 'testimage31': ['izieo 20 | 12 | 09 ¢ 20 | at | ON 90834 us? to? I 691 74| '\n",
      "                 '1.00\\n'],\n",
      " 'testimage32': [\"2 . . ' . + : .\\n\"],\n",
      " 'testimage33': ['izfo9 20 | 12 | 09 | 20 | at | N 110048 H i H 1 14 48 {| '\n",
      "                 '1.00\\n'],\n",
      " 'testimage34': ['CS ee ee ee | i a ir rr rs i i a\\n'],\n",
      " 'testimage35': ['i H i H bo? H\\n'],\n",
      " 'testimage36': ['4} lark 25 yt : ; go ig iy 8 :\\n'],\n",
      " 'testimage37': ['i bo boob !\\n'],\n",
      " 'testimage38': ['C) Se a OO SD RS OT SE SS i i is Os'],\n",
      " 'testimage39': ['lbois20207~sn7 Zon 0 IT Hess0e I OO”CO?SCO#USI',\n",
      "                 ' as bol 7\\n'],\n",
      " 'testimage4': ['9 sulsolzotadaotea Lert alesearbmeclled.La.h26eelool a.\\n'],\n",
      " 'testimage40': ['Sse a oe an |\\n'],\n",
      " 'testimage41': [': nar hie Sebel anak alas Sa id (TICE ee\\n'],\n",
      " 'testimage42': ['ee\\n'],\n",
      " 'testimage43': ['at Sarna ay a Se\\n'],\n",
      " 'testimage44': ['eT oes aoe | a en en'],\n",
      " 'testimage5': ['4 itoleotatsoleolerl lessss tro | ed goss load tn\\n'],\n",
      " 'testimage6': ['5L astral: vitolee lait lesaaz toe | ttt a | een oo Ly\\n'],\n",
      " 'testimage7': ['Bl of colon | aa aps Leal lee Toe | | | Py 7 yoebe la _'],\n",
      " 'testimage8': ['1) | a | po\\n'],\n",
      " 'testimage9': ['‘og. 10 20) 08 10.20.12;. | assoo ‘ur. stave. 90 bola', '\\n']}\n"
     ]
    }
   ],
   "source": [
    "#open the json file\n",
    "with open('output.json') as f:\n",
    "    data = json.load(f)\n",
    "\n",
    "pprint(data)\n"
   ]
  },
  {
   "cell_type": "code",
   "execution_count": null,
   "metadata": {},
   "outputs": [],
   "source": []
  },
  {
   "cell_type": "code",
   "execution_count": null,
   "metadata": {},
   "outputs": [],
   "source": [
    "data_dict = {}"
   ]
  },
  {
   "cell_type": "code",
   "execution_count": 48,
   "metadata": {},
   "outputs": [],
   "source": []
  },
  {
   "cell_type": "code",
   "execution_count": null,
   "metadata": {},
   "outputs": [],
   "source": []
  },
  {
   "cell_type": "code",
   "execution_count": null,
   "metadata": {},
   "outputs": [],
   "source": []
  },
  {
   "cell_type": "code",
   "execution_count": null,
   "metadata": {},
   "outputs": [],
   "source": []
  },
  {
   "cell_type": "code",
   "execution_count": null,
   "metadata": {},
   "outputs": [],
   "source": []
  },
  {
   "cell_type": "code",
   "execution_count": null,
   "metadata": {},
   "outputs": [],
   "source": []
  },
  {
   "cell_type": "code",
   "execution_count": 3,
   "metadata": {},
   "outputs": [],
   "source": [
    "def ocr_image(image_path):\n",
    "    # Load the image and convert it to grayscale\n",
    "    image = cv2.imread(image_path)\n",
    "    gray = cv2.cvtColor(image, cv2.COLOR_BGR2GRAY)\n",
    "    \n",
    "    # Apply thresholding to the image to make the text more legible\n",
    "    threshold = cv2.threshold(gray, 0, 255, cv2.THRESH_BINARY_INV + cv2.THRESH_OTSU)[1]\n",
    "    \n",
    "    # Perform OCR on the thresholded image and return the text\n",
    "    text = pytesseract.image_to_string(threshold)\n",
    "    return text"
   ]
  },
  {
   "cell_type": "code",
   "execution_count": null,
   "metadata": {},
   "outputs": [],
   "source": [
    "# Define a function to parse the OCR output and extract the relevant information\n",
    "def parse_ocr_output(ocr_output):\n",
    "    # Split the OCR output into lines\n",
    "    lines = ocr_output.split('\\n')\n",
    "    \n",
    "    # Define a regular expression to match the date strings at the beginning of each row\n",
    "    date_regex = r'\\d{6}'\n",
    "    \n",
    "    # Initialize the output list\n",
    "    output = []\n",
    "    \n",
    "    # Loop through each line of OCR output and extract the relevant information\n",
    "    for line in lines:\n",
    "        # Split the line into individual text entries\n",
    "        entries = line.split()\n",
    "        \n",
    "        # Extract the date strings at the beginning of each row\n",
    "        dates = [entry for entry in entries if re.match(date_regex, entry)]\n",
    "        \n",
    "        # Combine neighboring text entries if they belong to the same row\n",
    "        rows = []\n",
    "        for entry in entries"
   ]
  },
  {
   "cell_type": "code",
   "execution_count": null,
   "metadata": {},
   "outputs": [],
   "source": []
  },
  {
   "cell_type": "code",
   "execution_count": null,
   "metadata": {},
   "outputs": [],
   "source": [
    "Use python to write me a code that can use OCR to extract the text from an image and export it as json data. \n",
    "\n",
    "Input: 5 test images of the same table and their corresponding OCR outputs\n",
    "Task: Review the 5 test images in the Images folder and their corresponding OCR outputs in\n",
    "the OCR folder. Use key information from the images and OCR output (for example, bounding\n",
    "boxes, text or confidences) to build a general parser that will work properly on additional data\n",
    "(images of the same table with their OCR outputs).\n",
    "■ The standard format of the json file should be a dictionary. Each key of the\n",
    "dictionary is an image name, and its value is a list of lists (containing the text\n",
    "entries, organized by line). Below we illustrate the expected output for the first\n",
    "image:\n",
    "{‘testimage1’:[ [‘111020’,‘111020’,‘21’,‘’,‘95940’,‘59’,‘’,‘’,‘’,‘A’,‘1354’,‘00’,‘2’],\n",
    "[‘111020’,‘111020’,‘21’,‘’,‘95861’,‘TC’,‘’,‘’,‘’,‘A’,‘3460’,‘00’,‘1’],…\n",
    "],\n",
    "‘testimage2’:…}\n",
    "(Note that the first two entries in each row are date strings, so you may need to\n",
    "group text in neighboring boxes.)"
   ]
  },
  {
   "cell_type": "code",
   "execution_count": null,
   "metadata": {},
   "outputs": [],
   "source": []
  },
  {
   "cell_type": "code",
   "execution_count": null,
   "metadata": {},
   "outputs": [],
   "source": [
    "import pytesseract\n",
    "import cv2\n",
    "import json\n",
    "import os\n",
    "\n",
    "# Set the path to the image and OCR output folders\n",
    "image_folder = 'Images/'\n",
    "ocr_folder = 'OCR/'\n",
    "\n",
    "# Initialize the Tesseract OCR engine\n",
    "pytesseract.pytesseract.tesseract_cmd = r'<path_to_tesseract>\\tesseract.exe'\n",
    "\n",
    "# Define a function to extract text from an image using Tesseract OCR\n",
    "def ocr_image(image_path):\n",
    "    # Load the image and convert it to grayscale\n",
    "    image = cv2.imread(image_path)\n",
    "    gray = cv2.cvtColor(image, cv2.COLOR_BGR2GRAY)\n",
    "    \n",
    "    # Apply thresholding to the image to make the text more legible\n",
    "    threshold = cv2.threshold(gray, 0, 255, cv2.THRESH_BINARY_INV + cv2.THRESH_OTSU)[1]\n",
    "    \n",
    "    # Perform OCR on the thresholded image and return the text\n",
    "    text = pytesseract.image_to_string(threshold)\n",
    "    return text\n",
    "\n",
    "# Define a function to parse the OCR output and extract the relevant information\n",
    "def parse_ocr_output(ocr_output):\n",
    "    # Split the OCR output into lines\n",
    "    lines = ocr_output.split('\\n')\n",
    "    \n",
    "    # Define a regular expression to match the date strings at the beginning of each row\n",
    "    date_regex = r'\\d{6}'\n",
    "    \n",
    "    # Initialize the output list\n",
    "    output = []\n",
    "    \n",
    "    # Loop through each line of OCR output and extract the relevant information\n",
    "    for line in lines:\n",
    "        # Split the line into individual text entries\n",
    "        entries = line.split()\n",
    "        \n",
    "        # Extract the date strings at the beginning of each row\n",
    "        dates = [entry for entry in entries if re.match(date_regex, entry)]\n",
    "        \n",
    "        # Combine neighboring text entries if they belong to the same row\n",
    "        rows = []\n",
    "        for entry in entries"
   ]
  }
 ],
 "metadata": {
  "kernelspec": {
   "display_name": "PythonData",
   "language": "python",
   "name": "python3"
  },
  "language_info": {
   "codemirror_mode": {
    "name": "ipython",
    "version": 3
   },
   "file_extension": ".py",
   "mimetype": "text/x-python",
   "name": "python",
   "nbconvert_exporter": "python",
   "pygments_lexer": "ipython3",
   "version": "3.7.7"
  },
  "orig_nbformat": 4
 },
 "nbformat": 4,
 "nbformat_minor": 2
}
