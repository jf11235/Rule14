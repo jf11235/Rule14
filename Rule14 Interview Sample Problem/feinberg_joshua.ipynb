{
 "cells": [
  {
   "cell_type": "code",
   "execution_count": 1,
   "metadata": {},
   "outputs": [],
   "source": [
    "from collections import defaultdict\n",
    "import json\n",
    "from pprint import pprint\n",
    "import boto3\n",
    "import math\n",
    "import pathlib\n",
    "from typing import Dict, List\n"
   ]
  },
  {
   "cell_type": "code",
   "execution_count": 2,
   "metadata": {},
   "outputs": [],
   "source": [
    "image_folder = pathlib.Path('Images')\n",
    "output_folder = pathlib.Path('OCR')\n",
    "output_folder.mkdir(exist_ok=True)"
   ]
  },
  {
   "cell_type": "code",
   "execution_count": null,
   "metadata": {},
   "outputs": [],
   "source": [
    "#(DO NOT MODIFY)\n",
    "\n",
    "def extract_text_from_image(filename: pathlib.Path):\n",
    "    textract = boto3.client('textract', region_name='us-west-2')\n",
    "    response = textract.analyze_document(\n",
    "        Document={\n",
    "            'Bytes': filename.read_bytes()\n",
    "        },\n",
    "        FeatureTypes=['TABLES', 'FORMS', ]\n",
    "    )\n",
    "    \n",
    "    result = {\n",
    "        \"Pages\": len(response['Blocks']),\n",
    "        \"Blocks\": response['Blocks']\n",
    "    }\n",
    "    #return json dumps\n",
    "   \n",
    "    \n",
    "    return json.dumps(result, indent=4, sort_keys=True, default=str)"
   ]
  },
  {
   "cell_type": "code",
   "execution_count": null,
   "metadata": {},
   "outputs": [],
   "source": [
    "# (DO NOT MODIFY)\n",
    "# making a loop to go through all the images in the folder\n",
    "for filename in image_folder.iterdir():\n",
    "    # Extract the text from the image\n",
    "    text = extract_text_from_image(filename)\n",
    "    # Save the text to a json file\n",
    "    output_file = output_folder / (filename.stem + '.json')\n",
    "    output_file.write_text(text)\n",
    "    "
   ]
  },
  {
   "cell_type": "code",
   "execution_count": null,
   "metadata": {},
   "outputs": [],
   "source": [
    "# this one works, but I want to make it work for all the json files in the folder\n",
    "#DO NOT MODIFY\n",
    "\n",
    "testimg1 = pathlib.Path('OCR/testimage1.json')\n",
    "testlist1 = []\n",
    "with open(testimg1) as f:\n",
    "    data = json.load(f)\n",
    "    for i in data['Blocks']:\n",
    "        if i['BlockType'] == 'LINE' or i['BlockType'] == 'WORD':\n",
    "            testlist1.append(i[\"Text\"])\n",
    "\n",
    "pprint(testlist1)\n"
   ]
  },
  {
   "cell_type": "code",
   "execution_count": 3,
   "metadata": {},
   "outputs": [],
   "source": [
    "def delete_leftmost(blocks: List[Dict]) -> List[Dict]:\n",
    "    left_most = min((block for block in blocks if block['BlockType'] == 'WORD'), key = lambda block: block['Geometry']['BoundingBox']['Left'])\n",
    "    left_bound = left_most['Geometry']['BoundingBox']['Left']\n",
    "    left_threshold = left_bound + left_most['Geometry']['BoundingBox']['Width']\n",
    "    left_filter = [block for block in blocks if block['Geometry']['BoundingBox']['Left'] > left_threshold]\n",
    "    return left_filter\n",
    "    "
   ]
  },
  {
   "cell_type": "code",
   "execution_count": 37,
   "metadata": {},
   "outputs": [],
   "source": [
    "#make a fuction that puts all of the text where the bounding box bottom is above the top of the bounding box of the next line in a list and returns that list\n",
    "def data_by_row(blocks: List[Dict]) -> List[Dict]:\n",
    "    rows: List[List[Dict]] = []\n",
    "    blocks_by_id = {block['Id']: block for block in blocks}\n",
    "\n",
    "    prevlistlen = math.inf\n",
    "\n",
    "    while (listlen := len(blocks_by_id.keys())) > 0:\n",
    "        assert listlen < prevlistlen\n",
    "        prevlistlen = listlen\n",
    "        #find the key of the value with the minimum top value\n",
    "        top_most_id = min(blocks_by_id.keys(), key = lambda id: blocks_by_id[id]['Geometry']['BoundingBox']['Top'])\n",
    "\n",
    "        #top_most_id = min(((id, block) for id, block in blocks_by_id.items() if block['BlockType'] == 'WORD'), key = lambda block_tuple: block_tuple[1]['Geometry']['BoundingBox']['Top'])[0]\n",
    "        top_bound = blocks_by_id[top_most_id]['Geometry']['BoundingBox']['Top'] + blocks_by_id[top_most_id]['Geometry']['BoundingBox']['Height']\n",
    "        top_filter = [id for id, block in blocks_by_id.items() if block['Geometry']['BoundingBox']['Top'] < top_bound]\n",
    "        rows.append([blocks_by_id[id] for id in top_filter])\n",
    "        for id in top_filter:\n",
    "            assert id in blocks_by_id.keys()\n",
    "            del blocks_by_id[id]\n",
    "\n",
    "    # sort rows by leftmost bounding box\n",
    "    rows = [sorted(row, key = lambda block: block['Geometry']['BoundingBox']['Left']) for row in rows]\n",
    "    return rows\n"
   ]
  },
  {
   "cell_type": "code",
   "execution_count": null,
   "metadata": {},
   "outputs": [],
   "source": [
    "#iterate through all the json files in the folder\n",
    "for filename in output_folder.iterdir():\n",
    "    #delete the leftmost column\n",
    "    left_filter = delete_leftmost(filename)\n",
    "    #save the new json file\n",
    "    output_file = output_folder / (filename.stem + '.json')\n",
    "    output_file.write_text(left_filter)"
   ]
  },
  {
   "cell_type": "code",
   "execution_count": 50,
   "metadata": {},
   "outputs": [],
   "source": [
    "testlists: Dict[pathlib.Path, List] = defaultdict(list)\n",
    "\n",
    "#make a path to the OCR folder\n",
    "OCR = pathlib.Path('OCR')\n",
    "\n",
    "for filename in (OCR).iterdir():\n",
    "    with open(filename) as f:\n",
    "        data = json.load(f)\n",
    "        result = delete_leftmost(data['Blocks'])\n",
    "        result = data_by_row(result)\n",
    "        #replace each block with a list of the text in each block\n",
    "        result_text = []\n",
    "        for row in result:\n",
    "            row_text = []\n",
    "            for block in row:\n",
    "                if block['BlockType'] == 'WORD':\n",
    "                    text = block['Text']\n",
    "                    row_text.append(text)\n",
    "            result_text.append(row_text)\n",
    "        \n",
    "        testlists[filename.name] = result_text\n",
    "\n",
    "#write an output json file containing testlists\n",
    "with open('testlists.json', 'w') as f:\n",
    "    json.dump(testlists, f, indent=4, sort_keys=True, default=str)\n",
    "    \n",
    "        \n",
    "#why are my lists empty?\n",
    "#pprint(testlists)\n",
    "\n"
   ]
  }
 ],
 "metadata": {
  "kernelspec": {
   "display_name": "PythonData",
   "language": "python",
   "name": "python3"
  },
  "language_info": {
   "codemirror_mode": {
    "name": "ipython",
    "version": 3
   },
   "file_extension": ".py",
   "mimetype": "text/x-python",
   "name": "python",
   "nbconvert_exporter": "python",
   "pygments_lexer": "ipython3",
   "version": "3.11.0"
  },
  "orig_nbformat": 4
 },
 "nbformat": 4,
 "nbformat_minor": 2
}
