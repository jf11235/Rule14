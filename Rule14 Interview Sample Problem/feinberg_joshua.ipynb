{
 "cells": [
  {
   "cell_type": "code",
   "execution_count": 31,
   "metadata": {},
   "outputs": [],
   "source": [
    "import json\n",
    "from pprint import pprint\n",
    "import boto3\n",
    "import pathlib\n"
   ]
  },
  {
   "cell_type": "code",
   "execution_count": 32,
   "metadata": {},
   "outputs": [],
   "source": [
    "image_folder = pathlib.Path('Images')\n",
    "output_folder = pathlib.Path('OCR')\n",
    "output_folder.mkdir(exist_ok=True)"
   ]
  },
  {
   "cell_type": "code",
   "execution_count": 39,
   "metadata": {},
   "outputs": [],
   "source": [
    "def extract_text_from_image(filename: pathlib.Path):\n",
    "    textract = boto3.client('textract', region_name='us-west-2')\n",
    "    response = textract.analyze_document(\n",
    "        Document={\n",
    "            'Bytes': filename.read_bytes(),\n",
    "            \n",
    "        }\n",
    "    )\n",
    "    \n",
    "    result = {\n",
    "        \"Pages\": len(response['Blocks']),\n",
    "        \"Blocks\": response['Blocks']\n",
    "    }\n",
    "    #return json.dumps(result) as pretty print\n",
    "    \n",
    "    return json.dumps(result, indent=4, sort_keys=True, default=str)"
   ]
  },
  {
   "cell_type": "code",
   "execution_count": 40,
   "metadata": {},
   "outputs": [],
   "source": [
    "# making a loop to go through all the images in the folder\n",
    "for filename in image_folder.iterdir():\n",
    "    # Extract the text from the image\n",
    "    text = extract_text_from_image(filename)\n",
    "    # Save the text to a json file\n",
    "    output_file = output_folder / (filename.stem + '.json')\n",
    "    output_file.write_text(text)\n",
    "    "
   ]
  },
  {
   "cell_type": "code",
   "execution_count": null,
   "metadata": {},
   "outputs": [],
   "source": []
  },
  {
   "cell_type": "code",
   "execution_count": null,
   "metadata": {},
   "outputs": [],
   "source": []
  },
  {
   "cell_type": "code",
   "execution_count": null,
   "metadata": {},
   "outputs": [],
   "source": []
  },
  {
   "cell_type": "code",
   "execution_count": null,
   "metadata": {},
   "outputs": [],
   "source": []
  },
  {
   "cell_type": "code",
   "execution_count": null,
   "metadata": {},
   "outputs": [],
   "source": []
  },
  {
   "cell_type": "code",
   "execution_count": null,
   "metadata": {},
   "outputs": [],
   "source": []
  },
  {
   "cell_type": "code",
   "execution_count": null,
   "metadata": {},
   "outputs": [],
   "source": []
  },
  {
   "cell_type": "code",
   "execution_count": null,
   "metadata": {},
   "outputs": [],
   "source": []
  },
  {
   "cell_type": "code",
   "execution_count": null,
   "metadata": {},
   "outputs": [],
   "source": []
  },
  {
   "cell_type": "code",
   "execution_count": 8,
   "metadata": {},
   "outputs": [
    {
     "name": "stdout",
     "output_type": "stream",
     "text": [
      "1 a po\n",
      "iog102008102012Lassooursfacg90boa\n",
      "2\n",
      "log102008102012assi3iurlac690003\n",
      "a 08102008102012assooLRr ceePABCL90002\n",
      "4 i 5\n",
      "108102008102032assiajRe a JABCo6900013\n",
      "5 aat\n",
      "982020108102012ln3390LorLaac60oosa\n",
      "6 i\n",
      "o810201081020321323390prjaBpe6000i1\n",
      "\n"
     ]
    }
   ],
   "source": [
    "\n",
    "\n",
    "# Convert the image to grayscale\n",
    "gray = cv2.cvtColor(img, cv2.COLOR_BGR2GRAY)\n",
    "\n",
    "# Apply image preprocessing (e.g. thresholding)\n",
    "#thresh = cv2.threshold(gray, 0, 255, cv2.THRESH_BINARY_INV + cv2.THRESH_OTSU)[1]\n",
    "#cv2.imshow(thresh)\n",
    "\n",
    "# Run Tesseract OCR with the custom configuration options\n",
    "custom_config = r'--psm 6 -c tessedit_char_whitelist=0123456789abcdefghijklmnopqrstuvwxyzABCDEFGHIJKLMNOPQRSTUVWXYZ'\n",
    "text = pytesseract.image_to_string(img,config=custom_config)\n",
    "\n",
    "# Print the output\n",
    "print(text)"
   ]
  },
  {
   "cell_type": "code",
   "execution_count": null,
   "metadata": {},
   "outputs": [],
   "source": [
    "# print the output of the test file\n",
    "print(pytesseract.image_to_string(Image.open(testFile), config=OCR_CONFIG))\n"
   ]
  },
  {
   "cell_type": "code",
   "execution_count": 12,
   "metadata": {},
   "outputs": [],
   "source": [
    "# Define a function to extract text from an image using OCR\n",
    "def extract_text(image_path):\n",
    "    image = Image.open(image_path)\n",
    "    text = pytesseract.image_to_string(image, config=OCR_CONFIG)\n",
    "    return text.strip()\n",
    "\n",
    "# Define a function to parse the OCR output and extract relevant information\n",
    "def parse_ocr_output(ocr_path):\n",
    "    with ocr_path.open(\"r\") as f:\n",
    "        lines = f.readlines()\n",
    "    entries = []\n",
    "    for line in lines:\n",
    "        # Parse the line and extract relevant information\n",
    "        entry = line.split(',')\n",
    "        entries.append(entry)\n",
    "    return entries\n",
    "\n",
    "# Define a function to export the extracted data as JSON\n",
    "def export_as_json(data, output_file):\n",
    "    with open(output_file, 'w') as f:\n",
    "        json.dump(data, f)\n",
    "\n",
    "\n",
    "def format_json(data):\n",
    "    # Define the JSON structure\n",
    "    json_data = {\n",
    "        'image': [],\n",
    "        'text': [],\n",
    "        'entries': []\n",
    "    }\n",
    "    # Add the image name\n",
    "    json_data['image'] = data[0][0]\n",
    "    # Add the text\n",
    "    json_data['text'] = data[0][1]\n",
    "    # Add the entries\n",
    "    for entry in data[1:]:\n",
    "        json_data['entries'].append({\n",
    "            'id': entry[0],\n",
    "            'name': entry[1],\n",
    "            'address': entry[2],\n",
    "            'phone': entry[3]\n",
    "        })\n",
    "    return json_data\n",
    "\n",
    "\n",
    "\n"
   ]
  },
  {
   "cell_type": "code",
   "execution_count": 14,
   "metadata": {},
   "outputs": [],
   "source": [
    "\n",
    "# Loop through the images in the image directory\n",
    "for image_name in os.listdir(IMAGE_DIR):\n",
    "    # Extract the text from the image\n",
    "    image_path = os.path.join(IMAGE_DIR, image_name)\n",
    "    text = extract_text(image_path)\n",
    "    # Save the OCR output to a file\n",
    "    ocr_path = OCR_DIR.joinpath(image_name) # os.path.join(OCR_DIR, image_name.replace('.jpeg', '.txt'))\n",
    "    ocr_path = ocr_path.with_suffix('.txt')\n",
    "    with ocr_path.open('w+') as f:\n",
    "        f.write(text)\n",
    "    # Parse the OCR output\n",
    "    entries = parse_ocr_output(ocr_path)\n",
    "    export_as_json(text, OUTPUT_FILE)\n",
    "\n",
    "\n",
    "# Export the output data as JSON\n"
   ]
  },
  {
   "cell_type": "code",
   "execution_count": null,
   "metadata": {},
   "outputs": [],
   "source": [
    "# Initialize the output data dictionary\n",
    "output_data = {}\n",
    "inum = 1 \n",
    "        "
   ]
  },
  {
   "cell_type": "code",
   "execution_count": null,
   "metadata": {},
   "outputs": [],
   "source": []
  },
  {
   "cell_type": "code",
   "execution_count": null,
   "metadata": {},
   "outputs": [],
   "source": [
    "#open the json file\n",
    "with open('output.json') as f:\n",
    "    data = json.load(f)\n",
    "\n",
    "pprint(data)\n"
   ]
  },
  {
   "cell_type": "code",
   "execution_count": null,
   "metadata": {},
   "outputs": [],
   "source": []
  },
  {
   "cell_type": "code",
   "execution_count": null,
   "metadata": {},
   "outputs": [],
   "source": [
    "data_dict = {}"
   ]
  },
  {
   "cell_type": "code",
   "execution_count": null,
   "metadata": {},
   "outputs": [],
   "source": []
  },
  {
   "cell_type": "code",
   "execution_count": null,
   "metadata": {},
   "outputs": [],
   "source": []
  },
  {
   "cell_type": "code",
   "execution_count": null,
   "metadata": {},
   "outputs": [],
   "source": []
  },
  {
   "cell_type": "code",
   "execution_count": null,
   "metadata": {},
   "outputs": [],
   "source": []
  },
  {
   "cell_type": "code",
   "execution_count": null,
   "metadata": {},
   "outputs": [],
   "source": []
  },
  {
   "cell_type": "code",
   "execution_count": null,
   "metadata": {},
   "outputs": [],
   "source": []
  },
  {
   "cell_type": "code",
   "execution_count": null,
   "metadata": {},
   "outputs": [],
   "source": [
    "def ocr_image(image_path):\n",
    "    # Load the image and convert it to grayscale\n",
    "    image = cv2.imread(image_path)\n",
    "    gray = cv2.cvtColor(image, cv2.COLOR_BGR2GRAY)\n",
    "    \n",
    "    # Apply thresholding to the image to make the text more legible\n",
    "    threshold = cv2.threshold(gray, 0, 255, cv2.THRESH_BINARY_INV + cv2.THRESH_OTSU)[1]\n",
    "    \n",
    "    # Perform OCR on the thresholded image and return the text\n",
    "    text = pytesseract.image_to_string(threshold)\n",
    "    return text"
   ]
  },
  {
   "cell_type": "code",
   "execution_count": null,
   "metadata": {},
   "outputs": [],
   "source": [
    "# Define a function to parse the OCR output and extract the relevant information\n",
    "def parse_ocr_output(ocr_output):\n",
    "    # Split the OCR output into lines\n",
    "    lines = ocr_output.split('\\n')\n",
    "    \n",
    "    # Define a regular expression to match the date strings at the beginning of each row\n",
    "    date_regex = r'\\d{6}'\n",
    "    \n",
    "    # Initialize the output list\n",
    "    output = []\n",
    "    \n",
    "    # Loop through each line of OCR output and extract the relevant information\n",
    "    for line in lines:\n",
    "        # Split the line into individual text entries\n",
    "        entries = line.split()\n",
    "        \n",
    "        # Extract the date strings at the beginning of each row\n",
    "        dates = [entry for entry in entries if re.match(date_regex, entry)]\n",
    "        \n",
    "        # Combine neighboring text entries if they belong to the same row\n",
    "        rows = []\n",
    "        for entry in entries"
   ]
  },
  {
   "cell_type": "code",
   "execution_count": null,
   "metadata": {},
   "outputs": [],
   "source": []
  },
  {
   "cell_type": "code",
   "execution_count": null,
   "metadata": {},
   "outputs": [],
   "source": [
    "Use python to write me a code that can use OCR to extract the text from an image and export it as json data. \n",
    "\n",
    "Input: 5 test images of the same table and their corresponding OCR outputs\n",
    "Task: Review the 5 test images in the Images folder and their corresponding OCR outputs in\n",
    "the OCR folder. Use key information from the images and OCR output (for example, bounding\n",
    "boxes, text or confidences) to build a general parser that will work properly on additional data\n",
    "(images of the same table with their OCR outputs).\n",
    "■ The standard format of the json file should be a dictionary. Each key of the\n",
    "dictionary is an image name, and its value is a list of lists (containing the text\n",
    "entries, organized by line). Below we illustrate the expected output for the first\n",
    "image:\n",
    "{‘testimage1’:[ [‘111020’,‘111020’,‘21’,‘’,‘95940’,‘59’,‘’,‘’,‘’,‘A’,‘1354’,‘00’,‘2’],\n",
    "[‘111020’,‘111020’,‘21’,‘’,‘95861’,‘TC’,‘’,‘’,‘’,‘A’,‘3460’,‘00’,‘1’],…\n",
    "],\n",
    "‘testimage2’:…}\n",
    "(Note that the first two entries in each row are date strings, so you may need to\n",
    "group text in neighboring boxes.)"
   ]
  },
  {
   "cell_type": "code",
   "execution_count": null,
   "metadata": {},
   "outputs": [],
   "source": []
  },
  {
   "cell_type": "code",
   "execution_count": null,
   "metadata": {},
   "outputs": [],
   "source": [
    "import pytesseract\n",
    "import cv2\n",
    "import json\n",
    "import os\n",
    "\n",
    "# Set the path to the image and OCR output folders\n",
    "image_folder = 'Images/'\n",
    "ocr_folder = 'OCR/'\n",
    "\n",
    "# Initialize the Tesseract OCR engine\n",
    "pytesseract.pytesseract.tesseract_cmd = r'<path_to_tesseract>\\tesseract.exe'\n",
    "\n",
    "# Define a function to extract text from an image using Tesseract OCR\n",
    "def ocr_image(image_path):\n",
    "    # Load the image and convert it to grayscale\n",
    "    image = cv2.imread(image_path)\n",
    "    gray = cv2.cvtColor(image, cv2.COLOR_BGR2GRAY)\n",
    "    \n",
    "    # Apply thresholding to the image to make the text more legible\n",
    "    threshold = cv2.threshold(gray, 0, 255, cv2.THRESH_BINARY_INV + cv2.THRESH_OTSU)[1]\n",
    "    \n",
    "    # Perform OCR on the thresholded image and return the text\n",
    "    text = pytesseract.image_to_string(threshold)\n",
    "    return text\n",
    "\n",
    "# Define a function to parse the OCR output and extract the relevant information\n",
    "def parse_ocr_output(ocr_output):\n",
    "    # Split the OCR output into lines\n",
    "    lines = ocr_output.split('\\n')\n",
    "    \n",
    "    # Define a regular expression to match the date strings at the beginning of each row\n",
    "    date_regex = r'\\d{6}'\n",
    "    \n",
    "    # Initialize the output list\n",
    "    output = []\n",
    "    \n",
    "    # Loop through each line of OCR output and extract the relevant information\n",
    "    for line in lines:\n",
    "        # Split the line into individual text entries\n",
    "        entries = line.split()\n",
    "        \n",
    "        # Extract the date strings at the beginning of each row\n",
    "        dates = [entry for entry in entries if re.match(date_regex, entry)]\n",
    "        \n",
    "        # Combine neighboring text entries if they belong to the same row\n",
    "        rows = []\n",
    "        for entry in entries"
   ]
  }
 ],
 "metadata": {
  "kernelspec": {
   "display_name": "PythonData",
   "language": "python",
   "name": "python3"
  },
  "language_info": {
   "codemirror_mode": {
    "name": "ipython",
    "version": 3
   },
   "file_extension": ".py",
   "mimetype": "text/x-python",
   "name": "python",
   "nbconvert_exporter": "python",
   "pygments_lexer": "ipython3",
   "version": "3.7.7"
  },
  "orig_nbformat": 4
 },
 "nbformat": 4,
 "nbformat_minor": 2
}
