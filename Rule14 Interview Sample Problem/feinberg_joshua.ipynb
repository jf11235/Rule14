{
 "cells": [
  {
   "cell_type": "code",
   "execution_count": 4,
   "metadata": {},
   "outputs": [],
   "source": [
    "from collections import defaultdict\n",
    "import json\n",
    "from pprint import pprint\n",
    "import boto3\n",
    "import math\n",
    "import pathlib\n",
    "from typing import Dict, List\n"
   ]
  },
  {
   "cell_type": "code",
   "execution_count": 5,
   "metadata": {},
   "outputs": [],
   "source": [
    "image_folder = pathlib.Path('Images')\n",
    "output_folder = pathlib.Path('OCR')\n",
    "output_folder.mkdir(exist_ok=True)"
   ]
  },
  {
   "cell_type": "code",
   "execution_count": null,
   "metadata": {},
   "outputs": [],
   "source": [
    "\n",
    "\n",
    "def extract_text_from_image(filename: pathlib.Path):\n",
    "    textract = boto3.client('textract', region_name='us-west-2')\n",
    "    response = textract.analyze_document(\n",
    "        Document={\n",
    "            'Bytes': filename.read_bytes()\n",
    "        },\n",
    "        FeatureTypes=['TABLES', 'FORMS', ]\n",
    "    )\n",
    "    \n",
    "    result = {\n",
    "        \"Pages\": len(response['Blocks']),\n",
    "        \"Blocks\": response['Blocks']\n",
    "    }\n",
    "    #return json dumps\n",
    "   \n",
    "    \n",
    "    return json.dumps(result, indent=4, sort_keys=True, default=str)"
   ]
  },
  {
   "cell_type": "code",
   "execution_count": null,
   "metadata": {},
   "outputs": [],
   "source": [
    "\n",
    "# making a loop to go through all the images in the folder\n",
    "for filename in image_folder.iterdir():\n",
    "    # Extract the text from the image\n",
    "    text = extract_text_from_image(filename)\n",
    "    # Save the text to a json file\n",
    "    output_file = output_folder / (filename.stem + '.json')\n",
    "    output_file.write_text(text)\n",
    "    "
   ]
  },
  {
   "cell_type": "code",
   "execution_count": null,
   "metadata": {},
   "outputs": [],
   "source": [
    "# this one works, but I want to make it work for all the json files in the folder\n",
    "\n",
    "\n",
    "testimg1 = pathlib.Path('OCR/testimage1.json')\n",
    "testlist1 = []\n",
    "with open(testimg1) as f:\n",
    "    data = json.load(f)\n",
    "    for i in data['Blocks']:\n",
    "        if i['BlockType'] == 'LINE' or i['BlockType'] == 'WORD':\n",
    "            testlist1.append(i[\"Text\"])\n",
    "\n",
    "pprint(testlist1)\n"
   ]
  },
  {
   "cell_type": "code",
   "execution_count": 3,
   "metadata": {},
   "outputs": [],
   "source": [
    "#deleting the leftmost bounding box from the list\n",
    "def delete_leftmost(blocks: List[Dict]) -> List[Dict]:\n",
    "    left_most = min((block for block in blocks if block['BlockType'] == 'WORD'), key = lambda block: block['Geometry']['BoundingBox']['Left'])\n",
    "    left_bound = left_most['Geometry']['BoundingBox']['Left']\n",
    "    left_threshold = left_bound + left_most['Geometry']['BoundingBox']['Width']\n",
    "    left_filter = [block for block in blocks if block['Geometry']['BoundingBox']['Left'] > left_threshold]\n",
    "    return left_filter\n",
    "    "
   ]
  },
  {
   "cell_type": "code",
   "execution_count": 37,
   "metadata": {},
   "outputs": [],
   "source": [
    "# fuction that puts all of the text where the bounding box bottom is above the top of the bounding box of the next line in a list and returns that list\n",
    "def data_by_row(blocks: List[Dict]) -> List[Dict]:\n",
    "    rows: List[List[Dict]] = []\n",
    "    blocks_by_id = {block['Id']: block for block in blocks}\n",
    "\n",
    "    prevlistlen = math.inf\n",
    "\n",
    "    while (listlen := len(blocks_by_id.keys())) > 0:\n",
    "        assert listlen < prevlistlen\n",
    "        prevlistlen = listlen\n",
    "        #find the key of the value with the minimum top value\n",
    "        top_most_id = min(blocks_by_id.keys(), key = lambda id: blocks_by_id[id]['Geometry']['BoundingBox']['Top'])\n",
    "\n",
    "        #top_most_id = min(((id, block) for id, block in blocks_by_id.items() if block['BlockType'] == 'WORD'), key = lambda block_tuple: block_tuple[1]['Geometry']['BoundingBox']['Top'])[0]\n",
    "        top_bound = blocks_by_id[top_most_id]['Geometry']['BoundingBox']['Top'] + blocks_by_id[top_most_id]['Geometry']['BoundingBox']['Height']\n",
    "        top_filter = [id for id, block in blocks_by_id.items() if block['Geometry']['BoundingBox']['Top'] < top_bound]\n",
    "        rows.append([blocks_by_id[id] for id in top_filter])\n",
    "        for id in top_filter:\n",
    "            assert id in blocks_by_id.keys()\n",
    "            del blocks_by_id[id]\n",
    "\n",
    "    # sort rows by leftmost bounding box\n",
    "    rows = [sorted(row, key = lambda block: block['Geometry']['BoundingBox']['Left']) for row in rows]\n",
    "    return rows\n"
   ]
  },
  {
   "cell_type": "code",
   "execution_count": null,
   "metadata": {},
   "outputs": [],
   "source": [
    "#iterate through all the json files in the folder\n",
    "for filename in output_folder.iterdir():\n",
    "    #delete the leftmost column\n",
    "    left_filter = delete_leftmost(filename)\n",
    "    #save the new json file\n",
    "    output_file = output_folder / (filename.stem + '.json')\n",
    "    output_file.write_text(left_filter)"
   ]
  },
  {
   "cell_type": "code",
   "execution_count": 8,
   "metadata": {},
   "outputs": [
    {
     "ename": "KeyboardInterrupt",
     "evalue": "",
     "output_type": "error",
     "traceback": [
      "\u001b[0;31m---------------------------------------------------------------------------\u001b[0m",
      "\u001b[0;31mKeyboardInterrupt\u001b[0m                         Traceback (most recent call last)",
      "Cell \u001b[0;32mIn[8], line 8\u001b[0m\n\u001b[1;32m      6\u001b[0m \u001b[39mfor\u001b[39;00m filename \u001b[39min\u001b[39;00m (OCR)\u001b[39m.\u001b[39miterdir():\n\u001b[1;32m      7\u001b[0m     \u001b[39mwith\u001b[39;00m \u001b[39mopen\u001b[39m(filename) \u001b[39mas\u001b[39;00m f:\n\u001b[0;32m----> 8\u001b[0m         data \u001b[39m=\u001b[39m json\u001b[39m.\u001b[39mload(f)\n\u001b[1;32m      9\u001b[0m         result \u001b[39m=\u001b[39m delete_leftmost(data[\u001b[39m'\u001b[39m\u001b[39mBlocks\u001b[39m\u001b[39m'\u001b[39m])\n\u001b[1;32m     10\u001b[0m         result \u001b[39m=\u001b[39m data_by_row(result)\n",
      "Cell \u001b[0;32mIn[8], line 8\u001b[0m\n\u001b[1;32m      6\u001b[0m \u001b[39mfor\u001b[39;00m filename \u001b[39min\u001b[39;00m (OCR)\u001b[39m.\u001b[39miterdir():\n\u001b[1;32m      7\u001b[0m     \u001b[39mwith\u001b[39;00m \u001b[39mopen\u001b[39m(filename) \u001b[39mas\u001b[39;00m f:\n\u001b[0;32m----> 8\u001b[0m         data \u001b[39m=\u001b[39m json\u001b[39m.\u001b[39mload(f)\n\u001b[1;32m      9\u001b[0m         result \u001b[39m=\u001b[39m delete_leftmost(data[\u001b[39m'\u001b[39m\u001b[39mBlocks\u001b[39m\u001b[39m'\u001b[39m])\n\u001b[1;32m     10\u001b[0m         result \u001b[39m=\u001b[39m data_by_row(result)\n",
      "File \u001b[0;32m~/opt/anaconda3/envs/Interviewenv/lib/python3.11/site-packages/debugpy/_vendored/pydevd/_pydevd_bundle/pydevd_frame.py:1117\u001b[0m, in \u001b[0;36mPyDBFrame.trace_dispatch\u001b[0;34m(self, frame, event, arg)\u001b[0m\n\u001b[1;32m   1115\u001b[0m \u001b[39mif\u001b[39;00m is_line:\n\u001b[1;32m   1116\u001b[0m     \u001b[39mself\u001b[39m\u001b[39m.\u001b[39mset_suspend(thread, step_cmd, original_step_cmd\u001b[39m=\u001b[39minfo\u001b[39m.\u001b[39mpydev_original_step_cmd)\n\u001b[0;32m-> 1117\u001b[0m     \u001b[39mself\u001b[39m\u001b[39m.\u001b[39mdo_wait_suspend(thread, frame, event, arg)\n\u001b[1;32m   1118\u001b[0m \u001b[39melif\u001b[39;00m is_return:  \u001b[39m# return event\u001b[39;00m\n\u001b[1;32m   1119\u001b[0m     back \u001b[39m=\u001b[39m frame\u001b[39m.\u001b[39mf_back\n",
      "File \u001b[0;32m~/opt/anaconda3/envs/Interviewenv/lib/python3.11/site-packages/debugpy/_vendored/pydevd/_pydevd_bundle/pydevd_frame.py:164\u001b[0m, in \u001b[0;36mPyDBFrame.do_wait_suspend\u001b[0;34m(self, *args, **kwargs)\u001b[0m\n\u001b[1;32m    163\u001b[0m \u001b[39mdef\u001b[39;00m \u001b[39mdo_wait_suspend\u001b[39m(\u001b[39mself\u001b[39m, \u001b[39m*\u001b[39margs, \u001b[39m*\u001b[39m\u001b[39m*\u001b[39mkwargs):\n\u001b[0;32m--> 164\u001b[0m     \u001b[39mself\u001b[39m\u001b[39m.\u001b[39m_args[\u001b[39m0\u001b[39m]\u001b[39m.\u001b[39mdo_wait_suspend(\u001b[39m*\u001b[39margs, \u001b[39m*\u001b[39m\u001b[39m*\u001b[39mkwargs)\n",
      "File \u001b[0;32m~/opt/anaconda3/envs/Interviewenv/lib/python3.11/site-packages/debugpy/_vendored/pydevd/pydevd.py:1976\u001b[0m, in \u001b[0;36mPyDB.do_wait_suspend\u001b[0;34m(self, thread, frame, event, arg, exception_type)\u001b[0m\n\u001b[1;32m   1973\u001b[0m             from_this_thread\u001b[39m.\u001b[39mappend(frame_custom_thread_id)\n\u001b[1;32m   1975\u001b[0m     \u001b[39mwith\u001b[39;00m \u001b[39mself\u001b[39m\u001b[39m.\u001b[39m_threads_suspended_single_notification\u001b[39m.\u001b[39mnotify_thread_suspended(thread_id, stop_reason):\n\u001b[0;32m-> 1976\u001b[0m         keep_suspended \u001b[39m=\u001b[39m \u001b[39mself\u001b[39m\u001b[39m.\u001b[39m_do_wait_suspend(thread, frame, event, arg, suspend_type, from_this_thread, frames_tracker)\n\u001b[1;32m   1978\u001b[0m frames_list \u001b[39m=\u001b[39m \u001b[39mNone\u001b[39;00m\n\u001b[1;32m   1980\u001b[0m \u001b[39mif\u001b[39;00m keep_suspended:\n\u001b[1;32m   1981\u001b[0m     \u001b[39m# This means that we should pause again after a set next statement.\u001b[39;00m\n",
      "File \u001b[0;32m~/opt/anaconda3/envs/Interviewenv/lib/python3.11/site-packages/debugpy/_vendored/pydevd/pydevd.py:2011\u001b[0m, in \u001b[0;36mPyDB._do_wait_suspend\u001b[0;34m(self, thread, frame, event, arg, suspend_type, from_this_thread, frames_tracker)\u001b[0m\n\u001b[1;32m   2008\u001b[0m         \u001b[39mself\u001b[39m\u001b[39m.\u001b[39m_call_mpl_hook()\n\u001b[1;32m   2010\u001b[0m     \u001b[39mself\u001b[39m\u001b[39m.\u001b[39mprocess_internal_commands()\n\u001b[0;32m-> 2011\u001b[0m     time\u001b[39m.\u001b[39msleep(\u001b[39m0.01\u001b[39m)\n\u001b[1;32m   2013\u001b[0m \u001b[39mself\u001b[39m\u001b[39m.\u001b[39mcancel_async_evaluation(get_current_thread_id(thread), \u001b[39mstr\u001b[39m(\u001b[39mid\u001b[39m(frame)))\n\u001b[1;32m   2015\u001b[0m \u001b[39m# process any stepping instructions\u001b[39;00m\n",
      "\u001b[0;31mKeyboardInterrupt\u001b[0m: "
     ]
    }
   ],
   "source": [
    "testlists: Dict[pathlib.Path, List] = defaultdict(list)\n",
    "\n",
    "#make a path to the OCR folder\n",
    "OCR = pathlib.Path('OCR')\n",
    "\n",
    "for filename in (OCR).iterdir():\n",
    "    with open(filename) as f:\n",
    "        data = json.load(f)\n",
    "        result = delete_leftmost(data['Blocks'])\n",
    "        result = data_by_row(result)\n",
    "        #replace each block with a list of the text in each block\n",
    "        result_text = []\n",
    "        for row in result:\n",
    "            row_text = []\n",
    "            for block in row:\n",
    "                if block['BlockType'] == 'WORD':\n",
    "                    text = block['Text']\n",
    "                    row_text.append(text)\n",
    "            result_text.append(row_text)\n",
    "        \n",
    "        testlists[filename.name] = result_text\n",
    "\n",
    "#write an output json file containing testlists\n",
    "with open('testlists.json', 'w') as f:\n",
    "    json.dump(testlists, f, indent=4, sort_keys=True, default=str)\n",
    "    \n",
    "        \n",
    "\n",
    "\n"
   ]
  }
 ],
 "metadata": {
  "kernelspec": {
   "display_name": "Python 3 (ipykernel)",
   "language": "python",
   "name": "python3"
  },
  "language_info": {
   "codemirror_mode": {
    "name": "ipython",
    "version": 3
   },
   "file_extension": ".py",
   "mimetype": "text/x-python",
   "name": "python",
   "nbconvert_exporter": "python",
   "pygments_lexer": "ipython3",
   "version": "3.11.0"
  },
  "orig_nbformat": 4
 },
 "nbformat": 4,
 "nbformat_minor": 2
}
